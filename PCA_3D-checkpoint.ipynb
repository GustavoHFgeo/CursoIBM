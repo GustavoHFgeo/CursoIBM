{
 "cells": [
  {
   "cell_type": "code",
   "execution_count": 3,
   "metadata": {},
   "outputs": [],
   "source": [
    "%matplotlib inline\n",
    "\n",
    "import numpy as np\n",
    "import pandas as pd\n",
    "import seaborn as sns\n",
    "\n",
    "from matplotlib import pyplot as plt\n",
    "from mpl_toolkits.mplot3d import Axes3D\n",
    "from matplotlib.lines import Line2D\n",
    "# from scipy.cluster.hierarchy import dendrogram\n",
    "# from scipy.cluster.hierarchy import linkage\n",
    "\n",
    "# from sklearn.manifold import MDS\n",
    "# from sklearn.metrics import euclidean_distances\n",
    "# from sklearn.preprocessing import StandardScaler\n",
    "# from sklearn.preprocessing import MinMaxScaler\n",
    "# from sklearn.preprocessing import MaxAbsScaler\n",
    "# from sklearn.decomposition import PCA\n",
    "# from sklearn.cluster import AgglomerativeClustering as HCA\n",
    "# from scipy import stats"
   ]
  },
  {
   "cell_type": "code",
   "execution_count": 5,
   "metadata": {},
   "outputs": [],
   "source": [
    "# ##Mudar pasta e nome do arquivo excel para importar\n",
    "\n",
    "pasta = './data/'\n",
    "# excel = pd.ExcelFile(pasta + 'Para Sofia_estudo de correlação geoquímica_óleo_rocha_editado.xlsx') \n",
    "# abas = excel.sheet_names\n",
    "# dic = pd.read_excel(excel, sheet_name=None)\n",
    "\n",
    "\n",
    "##Caso tenha apenas uma planilha\n",
    "\n",
    "df = pd.read_excel(pasta + 'Para Sofia_estudo de correlação geoquímica_óleo_rocha_editado.xlsx')"
   ]
  },
  {
   "cell_type": "code",
   "execution_count": null,
   "metadata": {},
   "outputs": [],
   "source": [
    "##Verificação e edição de DataFrame, caso seja necessário: retirada de colunas não-numéricas,\n",
    "##Profundidade Topo e Resgistro Geoqwin\n",
    "##Caso não seja necessário, pular essa célula\n",
    "\n",
    "dfn = df.convert_dtypes()\n",
    "types = dfn.dtypes\n",
    "dfn.dropna(inplace=True)\n",
    "campo = dfn['Campo']\n",
    "colunas_nomes = [x for x in types.index if \n",
    "                 str(types[x])=='string' or str(types[x])=='boolean' or str(types[x])=='object']\n",
    "    \n",
    "dfn = dfn.drop(colunas_nomes, axis=1)\n",
    "print('Formato do dado original (linhas, colunas): ',df.shape)\n",
    "print('Colunas retiradas por serem não-numéricas: ',colunas_nomes)\n",
    "print('Formato do dado alterado (linhas, colunas) após retirada de nulos e não-numéricos : ',dfn.shape)\n",
    "print()\n",
    "if 'Profundidade Topo' in dfn.columns:\n",
    "    dfn = dfn.drop('Profundidade Topo', axis=1)\n",
    "    print(\"A coluna de 'Profundidade Topo' também foi retirada dos dados: \",dfn.shape)\n",
    "if 'Registro GeoqWin' in dfn.columns:\n",
    "    dfn = dfn.drop('Registro GeoqWin', axis=1)\n",
    "    print(\"A coluna de 'Registro GeoqWin' também foi retirada dos dados: \",dfn.shape)\n",
    "\n",
    "# print(dfn.describe())\n",
    "# corr = dfn.corr()\n",
    "\n",
    "# ##Heatmap correlação\n",
    "# fig = plt.figure(figsize=(20,10))\n",
    "# sns.heatmap(corr, xticklabels=corr.columns, yticklabels=corr.columns, annot=True)\n",
    "# plt.title(i)\n",
    "# plt.show()\n",
    "\n",
    "# ##Pairplot\n",
    "# sns.pairplot(dfn)\n",
    "# plt.title(i)\n",
    "# plt.tight_layout()\n",
    "# plt.show()\n",
    "\n",
    "# ##Boxplot\n",
    "# dfn.plot(kind='box')\n",
    "# plt.tight_layout()\n",
    "# plt.title(i)\n",
    "# plt.show()"
   ]
  },
  {
   "cell_type": "code",
   "execution_count": null,
   "metadata": {},
   "outputs": [],
   "source": [
    "##Caso não tenha rodado a célula acima, rode essa para gerar o df que será usado e guardar as informaçoes de campo\n",
    "\n",
    "dfn = df.dropna()\n",
    "campo = df['Campo'][dfn.index]"
   ]
  },
  {
   "cell_type": "code",
   "execution_count": 6,
   "metadata": {
    "scrolled": false
   },
   "outputs": [],
   "source": [
    "## GRáfico 3D\n",
    "\n",
    "plt3d = plt.figure().gca(projection='3d') #define forma de visualização como projeção 3D\n",
    "\n",
    "def min_max(x): #define função para calcular limites para eixos\n",
    "    mean = np.nanmean(x)\n",
    "    std = np.nanstd(x)\n",
    "    return mean-3*std, mean+3*std\n",
    "    \n",
    "#define limites de eixos utilizando função min_max(x) --> verificar se está apontando para a coluna correta do df\n",
    "plt3d.set_xlim(min_max(np.array(dfn.iloc[:,1]))) \n",
    "plt3d.set_ylim(min_max(np.array(dfn.iloc[:,2])))\n",
    "plt3d.set_zlim(min_max(np.array(dfn.iloc[:,3])))\n",
    "\n",
    "#define títulos de eixos\n",
    "plt3d.set_xlabel('PC1')\n",
    "plt3d.set_ylabel('PC2')\n",
    "plt3d.set_zlabel('PC3')\n",
    "    \n",
    "markers = [m for m, func in Line2D.markers.items()]\n",
    "\n",
    "i=0\n",
    "for campo, campo_idx in dfn_pca.groupby('Campo').groups.items():\n",
    "    y = dfn_pca.iloc[campo_idx,2]\n",
    "    x = dfn_pca.iloc[campo_idx,1]\n",
    "    z = dfn_pca.iloc[campo_idx,3]\n",
    "    plt3d.scatter(x,y,z, label=campo, marker=markers[i], s=40)  # this way you can control color/marker/size of each group freely\n",
    "    i+=1\n",
    "        \n",
    "plt3d.legend(bbox_to_anchor=(1.04,1), loc=\"upper right\")\n",
    "plt.show() #exibe figura"
   ]
  },
  {
   "cell_type": "code",
   "execution_count": null,
   "metadata": {},
   "outputs": [],
   "source": []
  },
  {
   "cell_type": "code",
   "execution_count": null,
   "metadata": {},
   "outputs": [],
   "source": []
  },
  {
   "cell_type": "code",
   "execution_count": null,
   "metadata": {},
   "outputs": [],
   "source": []
  },
  {
   "cell_type": "code",
   "execution_count": null,
   "metadata": {},
   "outputs": [],
   "source": []
  }
 ],
 "metadata": {
  "kernelspec": {
   "display_name": "Python 3",
   "language": "python",
   "name": "python3"
  },
  "language_info": {
   "codemirror_mode": {
    "name": "ipython",
    "version": 3
   },
   "file_extension": ".py",
   "mimetype": "text/x-python",
   "name": "python",
   "nbconvert_exporter": "python",
   "pygments_lexer": "ipython3",
   "version": "3.7.6"
  }
 },
 "nbformat": 4,
 "nbformat_minor": 4
}
